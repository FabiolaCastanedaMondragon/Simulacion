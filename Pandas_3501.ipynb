{
 "cells": [
  {
   "cell_type": "markdown",
   "id": "c91063df-6d29-4c92-ba57-d1d012ad0624",
   "metadata": {},
   "source": [
    "# Introducciòn a Pandas."
   ]
  },
  {
   "cell_type": "markdown",
   "id": "eae97c0b-a33c-4b6a-8c49-b0905d8e011c",
   "metadata": {},
   "source": [
    "[Pandas](https://pandas.pydata.org/docs/) es una biblioteca que proporciona\n",
    "estructura de datos y herramientas de anàlisis de datos de alto rendimiento y faciles de usar.\n",
    "* La estructura de Datos principal es el DataFrame, que puede considerarce como una tabla 2D \n",
    "en memoria (como una hoja de càlculo, nombres de columna y etiquetas de fila).\n",
    "* Muchas funciones disponibles en Excel estan disponibles mediante programaciòn, como crear las tablas\n",
    "dinàmicas, calcular columnas basadas en otras columnas, trazar gràficos, etc.\n",
    "* Proporciona un alto rendimiento para manipular(unir, dividir, modificar, etc, grandes volumes de datos)."
   ]
  },
  {
   "cell_type": "markdown",
   "id": "c7aa1a04-b48a-4c22-a72e-5da296408511",
   "metadata": {},
   "source": [
    "## Import"
   ]
  },
  {
   "cell_type": "code",
   "execution_count": 1,
   "id": "732abfbb-ae71-4418-96bf-b7bf7da516c2",
   "metadata": {},
   "outputs": [],
   "source": [
    "import pandas as pd "
   ]
  },
  {
   "cell_type": "markdown",
   "id": "abd84d3b-8802-4ba4-8a03-7e5967cf539a",
   "metadata": {},
   "source": [
    "## Estructuras de datos en Pandas "
   ]
  },
  {
   "cell_type": "markdown",
   "id": "e64b0fac-55a2-4439-b9d6-dedc7c1b99e9",
   "metadata": {},
   "source": [
    "La Biblioteca Pandas, de manera gènerica contiene las siguientes estructuras de datos:\n",
    "* **Series**: Array de una dimesion.\n",
    "* **DataFrame**: Se corresponde con una tabla de dos dimensiones.\n",
    "* **Panel**: Similar a un diccionario de DataFrames.\n"
   ]
  },
  {
   "cell_type": "markdown",
   "id": "8010b9b8-406a-4939-b558-3f43b844fea3",
   "metadata": {},
   "source": [
    "### Creaciòn del Objero Series"
   ]
  },
  {
   "cell_type": "code",
   "execution_count": 2,
   "id": "8d976478-d090-4983-962d-1153d9c80b22",
   "metadata": {},
   "outputs": [
    {
     "name": "stdout",
     "output_type": "stream",
     "text": [
      "0     2\n",
      "1     4\n",
      "2     6\n",
      "3     8\n",
      "4    10\n",
      "dtype: int64\n"
     ]
    }
   ],
   "source": [
    "# Creacion del objeto series.\n",
    "s = pd.Series([2, 4, 6, 8, 10])\n",
    "print(s)"
   ]
  },
  {
   "cell_type": "code",
   "execution_count": 3,
   "id": "9bfacad2-f296-4e16-93a5-8a56c244d7c0",
   "metadata": {},
   "outputs": [
    {
     "name": "stdout",
     "output_type": "stream",
     "text": [
      "Emilio     169\n",
      "Anel       145\n",
      "Chucho     170\n",
      "Jocelin    170\n",
      "dtype: int64\n"
     ]
    }
   ],
   "source": [
    "# Creacion de un objeto series e inicializarlo con un diccionario de Python.\n",
    "Altura = {\"Emilio\": 169, \"Anel\": 145, \"Chucho\": 170, \"Jocelin\": 170}\n",
    "s = pd.Series(Altura)\n",
    "print(s)"
   ]
  },
  {
   "cell_type": "code",
   "execution_count": 4,
   "id": "38347522-9ff1-4993-9c77-02adc77fd5f3",
   "metadata": {},
   "outputs": [
    {
     "name": "stdout",
     "output_type": "stream",
     "text": [
      "Jocelin    170\n",
      "Emilio     169\n",
      "dtype: int64\n"
     ]
    }
   ],
   "source": [
    "# Creacion de un Objeto Series e inicializarlo con algunos elementos de un diccionario de Python.\n",
    "Altura = {\"Emilio\": 169, \"Anel\": 145, \"Chucho\": 170, \"Jocelin\": 170}\n",
    "s = pd.Series(Altura, index = [\"Jocelin\", \"Emilio\"])\n",
    "print(s)"
   ]
  },
  {
   "cell_type": "code",
   "execution_count": 5,
   "id": "758285ef-3a81-49a8-bf27-430e1c17f017",
   "metadata": {},
   "outputs": [
    {
     "name": "stdout",
     "output_type": "stream",
     "text": [
      "Num1     34\n",
      "Nump2    34\n",
      "Nump3    34\n",
      "Nump4    34\n",
      "dtype: int64\n"
     ]
    }
   ],
   "source": [
    "# Creacion de un objeto Series e inicializarlo con un escalar.\n",
    "s = pd.Series(34, [\"Num1\", \"Nump2\", \"Nump3\", \"Nump4\"])\n",
    "print(s)"
   ]
  },
  {
   "cell_type": "markdown",
   "id": "d72cbc7c-f0f2-4a4a-bbfb-bd4fd4b8e4a9",
   "metadata": {},
   "source": [
    "### Acceso a los Elementos de un Array\n",
    "\n",
    "Cada elemento en un objeto Series tiene un identificador que se denomina **indexlabel** ."
   ]
  },
  {
   "cell_type": "code",
   "execution_count": 6,
   "id": "7008c96b-dc7b-4488-ac04-343c180b60f3",
   "metadata": {},
   "outputs": [
    {
     "name": "stdout",
     "output_type": "stream",
     "text": [
      "Num1    2\n",
      "Num2    4\n",
      "Num3    6\n",
      "Num4    8\n",
      "dtype: int64\n"
     ]
    }
   ],
   "source": [
    "# Crear un objeto Series.\n",
    "s = pd.Series([2, 4, 6, 8],index=[\"Num1\", \"Num2\", \"Num3\", \"Num4\"])\n",
    "print(s)"
   ]
  },
  {
   "cell_type": "code",
   "execution_count": 7,
   "id": "ad37e434-1adb-4d95-833f-8cde52b6fb6b",
   "metadata": {},
   "outputs": [
    {
     "data": {
      "text/plain": [
       "np.int64(6)"
      ]
     },
     "execution_count": 7,
     "metadata": {},
     "output_type": "execute_result"
    }
   ],
   "source": [
    "## Acceder al tercer elemento del objeto\n",
    "s[\"Num3\"]"
   ]
  },
  {
   "cell_type": "code",
   "execution_count": 8,
   "id": "18996de9-e8e1-4387-92e5-4670b4e1f58a",
   "metadata": {},
   "outputs": [
    {
     "name": "stderr",
     "output_type": "stream",
     "text": [
      "/tmp/ipykernel_5028/1191963456.py:2: FutureWarning: Series.__getitem__ treating keys as positions is deprecated. In a future version, integer keys will always be treated as labels (consistent with DataFrame behavior). To access a value by position, use `ser.iloc[pos]`\n",
      "  s[2]\n"
     ]
    },
    {
     "data": {
      "text/plain": [
       "np.int64(6)"
      ]
     },
     "execution_count": 8,
     "metadata": {},
     "output_type": "execute_result"
    }
   ],
   "source": [
    "# Tambien se puede acceder por posicion.\n",
    "s[2]"
   ]
  },
  {
   "cell_type": "code",
   "execution_count": 9,
   "id": "b9371fb9-ad59-440d-a46f-c37eca44b595",
   "metadata": {},
   "outputs": [
    {
     "data": {
      "text/plain": [
       "np.int64(6)"
      ]
     },
     "execution_count": 9,
     "metadata": {},
     "output_type": "execute_result"
    }
   ],
   "source": [
    "# loc es la forma estandar de acceder a un elemento de un Objeto Series por atributo.\n",
    "s.loc[\"Num3\"]"
   ]
  },
  {
   "cell_type": "code",
   "execution_count": 10,
   "id": "1cb812bf-059e-4b87-8480-16269209ea68",
   "metadata": {},
   "outputs": [
    {
     "data": {
      "text/plain": [
       "np.int64(6)"
      ]
     },
     "execution_count": 10,
     "metadata": {},
     "output_type": "execute_result"
    }
   ],
   "source": [
    "# iloc es la forma estandar de acceder a un elemento de un objeto Series por posicion.\n",
    "s.iloc[2]"
   ]
  },
  {
   "cell_type": "code",
   "execution_count": 11,
   "id": "daec903c-0e56-423a-b68c-e5dc83358c1d",
   "metadata": {},
   "outputs": [
    {
     "data": {
      "text/plain": [
       "Num3    6\n",
       "Num4    8\n",
       "dtype: int64"
      ]
     },
     "execution_count": 11,
     "metadata": {},
     "output_type": "execute_result"
    }
   ],
   "source": [
    "# Accediendo al segundo y tercer elemento por posiciòn\n",
    "s.iloc[2:4]"
   ]
  },
  {
   "cell_type": "markdown",
   "id": "133d3782-a00a-48cb-ab23-e562cbcb57d9",
   "metadata": {},
   "source": [
    "### Operaciones Aritmeticas con Series"
   ]
  },
  {
   "cell_type": "code",
   "execution_count": 12,
   "id": "efa90ae8-a0d5-45a0-a9b5-af463ccde3df",
   "metadata": {},
   "outputs": [
    {
     "name": "stdout",
     "output_type": "stream",
     "text": [
      "0     2\n",
      "1     4\n",
      "2     6\n",
      "3     8\n",
      "4    10\n",
      "dtype: int64\n"
     ]
    }
   ],
   "source": [
    "# Crear un objeto Series\n",
    "s = pd.Series([2, 4, 6, 8, 10])\n",
    "print(s)"
   ]
  },
  {
   "cell_type": "code",
   "execution_count": 13,
   "id": "0fb28938-361c-4a58-937f-20954927b0dc",
   "metadata": {},
   "outputs": [
    {
     "data": {
      "text/plain": [
       "np.int64(30)"
      ]
     },
     "execution_count": 13,
     "metadata": {},
     "output_type": "execute_result"
    }
   ],
   "source": [
    "# Los objetos Series son similares y compatibles con los Arrays de Numpy.\n",
    "import numpy as np\n",
    "# ufunc de Numpy para sumar los elementos.\n",
    "np.sum(s)"
   ]
  },
  {
   "cell_type": "code",
   "execution_count": 14,
   "id": "a8a9dce2-3509-4b7a-abd5-02e2b359d8ff",
   "metadata": {},
   "outputs": [
    {
     "data": {
      "text/plain": [
       "0     4\n",
       "1     8\n",
       "2    12\n",
       "3    16\n",
       "4    20\n",
       "dtype: int64"
      ]
     },
     "execution_count": 14,
     "metadata": {},
     "output_type": "execute_result"
    }
   ],
   "source": [
    "s *2"
   ]
  },
  {
   "cell_type": "markdown",
   "id": "be349874-26e3-4150-a500-a2cc60bae2ae",
   "metadata": {},
   "source": [
    "### Representacion grafica de un objeto series "
   ]
  },
  {
   "cell_type": "code",
   "execution_count": 15,
   "id": "c385a412-5530-49e1-a9d3-039ee15724a4",
   "metadata": {},
   "outputs": [
    {
     "data": {
      "text/plain": [
       "0     4.4\n",
       "1     5.1\n",
       "2     6.1\n",
       "3     6.2\n",
       "4     6.1\n",
       "5     6.1\n",
       "6     5.7\n",
       "7     5.2\n",
       "8     4.7\n",
       "9     4.1\n",
       "10    3.9\n",
       "dtype: float64"
      ]
     },
     "execution_count": 15,
     "metadata": {},
     "output_type": "execute_result"
    }
   ],
   "source": [
    "# Crear un objeto Series denominado Temperaturas.\n",
    "Temperaturas = [4.4, 5.1, 6.1, 6.2, 6.1, 6.1, 5.7, 5.2, 4.7, 4.1, 3.9]\n",
    "s = pd.Series(Temperaturas)\n",
    "s"
   ]
  },
  {
   "cell_type": "code",
   "execution_count": 16,
   "id": "206191ab-efb1-482d-9d60-0ab7c783e3b5",
   "metadata": {},
   "outputs": [
    {
     "data": {
      "image/png": "[encoded data removed]",
      "text/plain": [
       "<Figure size 640x480 with 1 Axes>"
      ]
     },
     "metadata": {},
     "output_type": "display_data"
    }
   ],
   "source": [
    "# Representacion grafica del objeto Series.\n",
    "%matplotlib inline\n",
    "import matplotlib.pyplot as plt\n",
    "\n",
    "s.plot()\n",
    "plt.show()"
   ]
  },
  {
   "cell_type": "markdown",
   "id": "e6fcf86c-c0fc-4f91-a909-2314684b5d8d",
   "metadata": {},
   "source": [
    "## Creacion de un objeto DataFrame ."
   ]
  },
  {
   "cell_type": "code",
   "execution_count": 17,
   "id": "8365dd78-70c0-4252-a584-7d1a59043837",
   "metadata": {},
   "outputs": [
    {
     "data": {
      "text/html": [
       "<div>\n",
       "<style scoped>\n",
       "    .dataframe tbody tr th:only-of-type {\n",
       "        vertical-align: middle;\n",
       "    }\n",
       "\n",
       "    .dataframe tbody tr th {\n",
       "        vertical-align: top;\n",
       "    }\n",
       "\n",
       "    .dataframe thead th {\n",
       "        text-align: right;\n",
       "    }\n",
       "</style>\n",
       "<table border=\"1\" class=\"dataframe\">\n",
       "  <thead>\n",
       "    <tr style=\"text-align: right;\">\n",
       "      <th></th>\n",
       "      <th>Peso</th>\n",
       "      <th>Altura</th>\n",
       "      <th>Mascotas</th>\n",
       "    </tr>\n",
       "  </thead>\n",
       "  <tbody>\n",
       "    <tr>\n",
       "      <th>Anel</th>\n",
       "      <td>60</td>\n",
       "      <td>145</td>\n",
       "      <td>2.0</td>\n",
       "    </tr>\n",
       "    <tr>\n",
       "      <th>Chucho</th>\n",
       "      <td>74</td>\n",
       "      <td>170</td>\n",
       "      <td>NaN</td>\n",
       "    </tr>\n",
       "    <tr>\n",
       "      <th>Emilio</th>\n",
       "      <td>72</td>\n",
       "      <td>169</td>\n",
       "      <td>NaN</td>\n",
       "    </tr>\n",
       "    <tr>\n",
       "      <th>Jocelin</th>\n",
       "      <td>73</td>\n",
       "      <td>170</td>\n",
       "      <td>9.0</td>\n",
       "    </tr>\n",
       "  </tbody>\n",
       "</table>\n",
       "</div>"
      ],
      "text/plain": [
       "         Peso  Altura  Mascotas\n",
       "Anel       60     145       2.0\n",
       "Chucho     74     170       NaN\n",
       "Emilio     72     169       NaN\n",
       "Jocelin    73     170       9.0"
      ]
     },
     "execution_count": 17,
     "metadata": {},
     "output_type": "execute_result"
    }
   ],
   "source": [
    "# Creacion de un DataFrame e inicializarlo con un diccionario de objetos Series.\n",
    "Personas = {\n",
    "    \"Peso\": pd.Series([72, 60, 74, 73], [\"Emilio\", \"Anel\", \"Chucho\", \"Jocelin\"]),\n",
    "    \"Altura\": pd.Series({\"Emilio\": 169, \"Anel\":145, \"Chucho\": 170, \"Jocelin\":170}),\n",
    "    \"Mascotas\": pd.Series([2, 9], [\"Anel\", \"Jocelin\"])\n",
    "}\n",
    "\n",
    "df = pd.DataFrame(Personas)\n",
    "df"
   ]
  },
  {
   "cell_type": "markdown",
   "id": "003015fb-9790-4fae-a17b-fdce45672b87",
   "metadata": {},
   "source": [
    "Es posible forzar el DataFrame a que presente determinadas columnas y en orden determinado"
   ]
  },
  {
   "cell_type": "code",
   "execution_count": 18,
   "id": "a7e1e656-be7f-45ef-881e-fca07f67df90",
   "metadata": {},
   "outputs": [
    {
     "data": {
      "text/html": [
       "<div>\n",
       "<style scoped>\n",
       "    .dataframe tbody tr th:only-of-type {\n",
       "        vertical-align: middle;\n",
       "    }\n",
       "\n",
       "    .dataframe tbody tr th {\n",
       "        vertical-align: top;\n",
       "    }\n",
       "\n",
       "    .dataframe thead th {\n",
       "        text-align: right;\n",
       "    }\n",
       "</style>\n",
       "<table border=\"1\" class=\"dataframe\">\n",
       "  <thead>\n",
       "    <tr style=\"text-align: right;\">\n",
       "      <th></th>\n",
       "      <th>Altura</th>\n",
       "      <th>Peso</th>\n",
       "    </tr>\n",
       "  </thead>\n",
       "  <tbody>\n",
       "    <tr>\n",
       "      <th>Chucho</th>\n",
       "      <td>170</td>\n",
       "      <td>74</td>\n",
       "    </tr>\n",
       "    <tr>\n",
       "      <th>Emilio</th>\n",
       "      <td>169</td>\n",
       "      <td>72</td>\n",
       "    </tr>\n",
       "  </tbody>\n",
       "</table>\n",
       "</div>"
      ],
      "text/plain": [
       "        Altura  Peso\n",
       "Chucho     170    74\n",
       "Emilio     169    72"
      ]
     },
     "execution_count": 18,
     "metadata": {},
     "output_type": "execute_result"
    }
   ],
   "source": [
    "# Creacion de un DataFrame e inicializarlo con un diccionario de objetos Series.\n",
    "Personas = {\n",
    "    \"Peso\": pd.Series([72, 60, 74, 73], [\"Emilio\", \"Anel\", \"Chucho\", \"Jocelin\"]),\n",
    "    \"Altura\": pd.Series({\"Emilio\": 169, \"Anel\":145, \"Chucho\": 170, \"Jocelin\":170}),\n",
    "    \"Mascotas\": pd.Series([2, 9], [\"Anel\", \"Jocelin\"])\n",
    "}\n",
    "\n",
    "df = pd.DataFrame(\n",
    "    Personas,\n",
    "    columns = [\"Altura\", \"Peso\"],\n",
    "    index = [\"Chucho\", \"Emilio\"])\n",
    "df"
   ]
  },
  {
   "cell_type": "code",
   "execution_count": 19,
   "id": "47dd3d88-6970-4bc0-9366-c922eb6aad92",
   "metadata": {},
   "outputs": [
    {
     "data": {
      "text/html": [
       "<div>\n",
       "<style scoped>\n",
       "    .dataframe tbody tr th:only-of-type {\n",
       "        vertical-align: middle;\n",
       "    }\n",
       "\n",
       "    .dataframe tbody tr th {\n",
       "        vertical-align: top;\n",
       "    }\n",
       "\n",
       "    .dataframe thead th {\n",
       "        text-align: right;\n",
       "    }\n",
       "</style>\n",
       "<table border=\"1\" class=\"dataframe\">\n",
       "  <thead>\n",
       "    <tr style=\"text-align: right;\">\n",
       "      <th></th>\n",
       "      <th>Altura</th>\n",
       "      <th>Mascotas</th>\n",
       "      <th>Peso</th>\n",
       "    </tr>\n",
       "  </thead>\n",
       "  <tbody>\n",
       "    <tr>\n",
       "      <th>Jocelin</th>\n",
       "      <td>169</td>\n",
       "      <td>3</td>\n",
       "      <td>72</td>\n",
       "    </tr>\n",
       "    <tr>\n",
       "      <th>Emilio</th>\n",
       "      <td>145</td>\n",
       "      <td>2</td>\n",
       "      <td>60</td>\n",
       "    </tr>\n",
       "    <tr>\n",
       "      <th>Anel</th>\n",
       "      <td>170</td>\n",
       "      <td>1</td>\n",
       "      <td>74</td>\n",
       "    </tr>\n",
       "  </tbody>\n",
       "</table>\n",
       "</div>"
      ],
      "text/plain": [
       "         Altura  Mascotas  Peso\n",
       "Jocelin     169         3    72\n",
       "Emilio      145         2    60\n",
       "Anel        170         1    74"
      ]
     },
     "execution_count": 19,
     "metadata": {},
     "output_type": "execute_result"
    }
   ],
   "source": [
    "# Creacion de un DataFrame e inicializarlo con una lista de listas de Python.\n",
    "# Nota: Deben especificarse las columnas e indices por separado.\n",
    "Valores = [\n",
    "    [169, 3, 72],\n",
    "    [145, 2, 60],\n",
    "    [170, 1, 74]\n",
    "]\n",
    "\n",
    "df = pd.DataFrame(\n",
    "    Valores,\n",
    "    columns = [\"Altura\", \"Mascotas\", \"Peso\"],\n",
    "    index = [\"Jocelin\", \"Emilio\", \"Anel\"]\n",
    ") \n",
    "df"
   ]
  },
  {
   "cell_type": "code",
   "execution_count": 20,
   "id": "d917c802-70f9-49d8-ad60-f85640f89c97",
   "metadata": {},
   "outputs": [
    {
     "data": {
      "text/html": [
       "<div>\n",
       "<style scoped>\n",
       "    .dataframe tbody tr th:only-of-type {\n",
       "        vertical-align: middle;\n",
       "    }\n",
       "\n",
       "    .dataframe tbody tr th {\n",
       "        vertical-align: top;\n",
       "    }\n",
       "\n",
       "    .dataframe thead th {\n",
       "        text-align: right;\n",
       "    }\n",
       "</style>\n",
       "<table border=\"1\" class=\"dataframe\">\n",
       "  <thead>\n",
       "    <tr style=\"text-align: right;\">\n",
       "      <th></th>\n",
       "      <th>Peso</th>\n",
       "      <th>Altura</th>\n",
       "    </tr>\n",
       "  </thead>\n",
       "  <tbody>\n",
       "    <tr>\n",
       "      <th>Emilio</th>\n",
       "      <td>72</td>\n",
       "      <td>169</td>\n",
       "    </tr>\n",
       "    <tr>\n",
       "      <th>Anel</th>\n",
       "      <td>60</td>\n",
       "      <td>145</td>\n",
       "    </tr>\n",
       "    <tr>\n",
       "      <th>Chucho</th>\n",
       "      <td>74</td>\n",
       "      <td>170</td>\n",
       "    </tr>\n",
       "    <tr>\n",
       "      <th>Jocelin</th>\n",
       "      <td>73</td>\n",
       "      <td>170</td>\n",
       "    </tr>\n",
       "  </tbody>\n",
       "</table>\n",
       "</div>"
      ],
      "text/plain": [
       "         Peso  Altura\n",
       "Emilio     72     169\n",
       "Anel       60     145\n",
       "Chucho     74     170\n",
       "Jocelin    73     170"
      ]
     },
     "execution_count": 20,
     "metadata": {},
     "output_type": "execute_result"
    }
   ],
   "source": [
    "# Creaciòn de un DataFrame e inicializarlo con un diccionario de Python.\n",
    "Personas ={\n",
    "    \"Peso\": {\"Emilio\":72, \"Anel\":60, \"Chucho\":74, \"Jocelin\":73},\n",
    "    \"Altura\":{\"Emilio\": 169, \"Anel\":145, \"Chucho\": 170, \"Jocelin\":170}}\n",
    "\n",
    "df = pd.DataFrame(Personas)\n",
    "df"
   ]
  },
  {
   "cell_type": "markdown",
   "id": "0a35497c-e36b-481c-a068-fec33b727a76",
   "metadata": {},
   "source": [
    "### Acceso a los elementos de un DataFrame"
   ]
  },
  {
   "cell_type": "code",
   "execution_count": 21,
   "id": "262b34b9-9a27-4e93-9931-6d11d97b152a",
   "metadata": {},
   "outputs": [
    {
     "data": {
      "text/html": [
       "<div>\n",
       "<style scoped>\n",
       "    .dataframe tbody tr th:only-of-type {\n",
       "        vertical-align: middle;\n",
       "    }\n",
       "\n",
       "    .dataframe tbody tr th {\n",
       "        vertical-align: top;\n",
       "    }\n",
       "\n",
       "    .dataframe thead th {\n",
       "        text-align: right;\n",
       "    }\n",
       "</style>\n",
       "<table border=\"1\" class=\"dataframe\">\n",
       "  <thead>\n",
       "    <tr style=\"text-align: right;\">\n",
       "      <th></th>\n",
       "      <th>Peso</th>\n",
       "      <th>Altura</th>\n",
       "      <th>Mascotas</th>\n",
       "    </tr>\n",
       "  </thead>\n",
       "  <tbody>\n",
       "    <tr>\n",
       "      <th>Anel</th>\n",
       "      <td>60</td>\n",
       "      <td>145</td>\n",
       "      <td>2.0</td>\n",
       "    </tr>\n",
       "    <tr>\n",
       "      <th>Chucho</th>\n",
       "      <td>74</td>\n",
       "      <td>170</td>\n",
       "      <td>NaN</td>\n",
       "    </tr>\n",
       "    <tr>\n",
       "      <th>Emilio</th>\n",
       "      <td>72</td>\n",
       "      <td>169</td>\n",
       "      <td>NaN</td>\n",
       "    </tr>\n",
       "    <tr>\n",
       "      <th>Jocelin</th>\n",
       "      <td>73</td>\n",
       "      <td>170</td>\n",
       "      <td>9.0</td>\n",
       "    </tr>\n",
       "  </tbody>\n",
       "</table>\n",
       "</div>"
      ],
      "text/plain": [
       "         Peso  Altura  Mascotas\n",
       "Anel       60     145       2.0\n",
       "Chucho     74     170       NaN\n",
       "Emilio     72     169       NaN\n",
       "Jocelin    73     170       9.0"
      ]
     },
     "execution_count": 21,
     "metadata": {},
     "output_type": "execute_result"
    }
   ],
   "source": [
    "# Creacion de un DataFrame e inicializarlo con un diccionario de Python\n",
    "Personas = {\n",
    "    \"Peso\": pd.Series([72, 60, 74, 73], [\"Emilio\", \"Anel\", \"Chucho\", \"Jocelin\"]),\n",
    "    \"Altura\": pd.Series({\"Emilio\": 169, \"Anel\":145, \"Chucho\": 170, \"Jocelin\":170}),\n",
    "    \"Mascotas\": pd.Series([2, 9], [\"Anel\", \"Jocelin\"])\n",
    "}\n",
    "\n",
    "df = pd.DataFrame(Personas)\n",
    "df\n"
   ]
  },
  {
   "cell_type": "markdown",
   "id": "061fa6ed-4157-492e-8079-2766e7c0ca7f",
   "metadata": {},
   "source": [
    "## Acesso a los elementos de las columnas de DataFrame"
   ]
  },
  {
   "cell_type": "code",
   "execution_count": 22,
   "id": "ccff8f76-40b3-4c7f-83e5-e77cfaba75a5",
   "metadata": {},
   "outputs": [
    {
     "data": {
      "text/plain": [
       "Anel       60\n",
       "Chucho     74\n",
       "Emilio     72\n",
       "Jocelin    73\n",
       "Name: Peso, dtype: int64"
      ]
     },
     "execution_count": 22,
     "metadata": {},
     "output_type": "execute_result"
    }
   ],
   "source": [
    "df[\"Peso\"]"
   ]
  },
  {
   "cell_type": "code",
   "execution_count": 24,
   "id": "79bee721-ad0c-4e72-96ca-f79e64f15e7b",
   "metadata": {},
   "outputs": [
    {
     "data": {
      "text/html": [
       "<div>\n",
       "<style scoped>\n",
       "    .dataframe tbody tr th:only-of-type {\n",
       "        vertical-align: middle;\n",
       "    }\n",
       "\n",
       "    .dataframe tbody tr th {\n",
       "        vertical-align: top;\n",
       "    }\n",
       "\n",
       "    .dataframe thead th {\n",
       "        text-align: right;\n",
       "    }\n",
       "</style>\n",
       "<table border=\"1\" class=\"dataframe\">\n",
       "  <thead>\n",
       "    <tr style=\"text-align: right;\">\n",
       "      <th></th>\n",
       "      <th>Peso</th>\n",
       "      <th>Altura</th>\n",
       "    </tr>\n",
       "  </thead>\n",
       "  <tbody>\n",
       "    <tr>\n",
       "      <th>Anel</th>\n",
       "      <td>60</td>\n",
       "      <td>145</td>\n",
       "    </tr>\n",
       "    <tr>\n",
       "      <th>Chucho</th>\n",
       "      <td>74</td>\n",
       "      <td>170</td>\n",
       "    </tr>\n",
       "    <tr>\n",
       "      <th>Emilio</th>\n",
       "      <td>72</td>\n",
       "      <td>169</td>\n",
       "    </tr>\n",
       "    <tr>\n",
       "      <th>Jocelin</th>\n",
       "      <td>73</td>\n",
       "      <td>170</td>\n",
       "    </tr>\n",
       "  </tbody>\n",
       "</table>\n",
       "</div>"
      ],
      "text/plain": [
       "         Peso  Altura\n",
       "Anel       60     145\n",
       "Chucho     74     170\n",
       "Emilio     72     169\n",
       "Jocelin    73     170"
      ]
     },
     "execution_count": 24,
     "metadata": {},
     "output_type": "execute_result"
    }
   ],
   "source": [
    "df [[\"Peso\", \"Altura\"]]"
   ]
  },
  {
   "cell_type": "code",
   "execution_count": 25,
   "id": "6a277363-2e7c-4fbc-ac66-0fb5521bf142",
   "metadata": {},
   "outputs": [
    {
     "data": {
      "text/plain": [
       "Anel       False\n",
       "Chucho      True\n",
       "Emilio     False\n",
       "Jocelin    False\n",
       "Name: Peso, dtype: bool"
      ]
     },
     "execution_count": 25,
     "metadata": {},
     "output_type": "execute_result"
    }
   ],
   "source": [
    "# Pueden combinarce los elementos anteriores con expresiones boolenas.\n",
    "df[\"Peso\"] > 73"
   ]
  },
  {
   "cell_type": "code",
   "execution_count": 28,
   "id": "73c6b70d-df53-4efb-a2d8-fc4096ee83d0",
   "metadata": {},
   "outputs": [
    {
     "data": {
      "text/html": [
       "<div>\n",
       "<style scoped>\n",
       "    .dataframe tbody tr th:only-of-type {\n",
       "        vertical-align: middle;\n",
       "    }\n",
       "\n",
       "    .dataframe tbody tr th {\n",
       "        vertical-align: top;\n",
       "    }\n",
       "\n",
       "    .dataframe thead th {\n",
       "        text-align: right;\n",
       "    }\n",
       "</style>\n",
       "<table border=\"1\" class=\"dataframe\">\n",
       "  <thead>\n",
       "    <tr style=\"text-align: right;\">\n",
       "      <th></th>\n",
       "      <th>Peso</th>\n",
       "      <th>Altura</th>\n",
       "      <th>Mascotas</th>\n",
       "    </tr>\n",
       "  </thead>\n",
       "  <tbody>\n",
       "    <tr>\n",
       "      <th>Chucho</th>\n",
       "      <td>74</td>\n",
       "      <td>170</td>\n",
       "      <td>NaN</td>\n",
       "    </tr>\n",
       "    <tr>\n",
       "      <th>Jocelin</th>\n",
       "      <td>73</td>\n",
       "      <td>170</td>\n",
       "      <td>9.0</td>\n",
       "    </tr>\n",
       "  </tbody>\n",
       "</table>\n",
       "</div>"
      ],
      "text/plain": [
       "         Peso  Altura  Mascotas\n",
       "Chucho     74     170       NaN\n",
       "Jocelin    73     170       9.0"
      ]
     },
     "execution_count": 28,
     "metadata": {},
     "output_type": "execute_result"
    }
   ],
   "source": [
    "# Pueden combunarce los metodos anteriores con expresiones booleanas y mostrar el DataFrmae\n",
    "df[df[\"Peso\"]>72]"
   ]
  },
  {
   "cell_type": "markdown",
   "id": "422e6861-7697-418a-828f-9e9651b1d651",
   "metadata": {},
   "source": [
    "## Accediendo a los elementos de las filas del DataFrame"
   ]
  },
  {
   "cell_type": "code",
   "execution_count": 29,
   "id": "57cc3a52-5bb1-45e1-9e8b-388a75d75754",
   "metadata": {},
   "outputs": [
    {
     "data": {
      "text/html": [
       "<div>\n",
       "<style scoped>\n",
       "    .dataframe tbody tr th:only-of-type {\n",
       "        vertical-align: middle;\n",
       "    }\n",
       "\n",
       "    .dataframe tbody tr th {\n",
       "        vertical-align: top;\n",
       "    }\n",
       "\n",
       "    .dataframe thead th {\n",
       "        text-align: right;\n",
       "    }\n",
       "</style>\n",
       "<table border=\"1\" class=\"dataframe\">\n",
       "  <thead>\n",
       "    <tr style=\"text-align: right;\">\n",
       "      <th></th>\n",
       "      <th>Peso</th>\n",
       "      <th>Altura</th>\n",
       "      <th>Mascotas</th>\n",
       "    </tr>\n",
       "  </thead>\n",
       "  <tbody>\n",
       "    <tr>\n",
       "      <th>Anel</th>\n",
       "      <td>60</td>\n",
       "      <td>145</td>\n",
       "      <td>2.0</td>\n",
       "    </tr>\n",
       "    <tr>\n",
       "      <th>Chucho</th>\n",
       "      <td>74</td>\n",
       "      <td>170</td>\n",
       "      <td>NaN</td>\n",
       "    </tr>\n",
       "    <tr>\n",
       "      <th>Emilio</th>\n",
       "      <td>72</td>\n",
       "      <td>169</td>\n",
       "      <td>NaN</td>\n",
       "    </tr>\n",
       "    <tr>\n",
       "      <th>Jocelin</th>\n",
       "      <td>73</td>\n",
       "      <td>170</td>\n",
       "      <td>9.0</td>\n",
       "    </tr>\n",
       "  </tbody>\n",
       "</table>\n",
       "</div>"
      ],
      "text/plain": [
       "         Peso  Altura  Mascotas\n",
       "Anel       60     145       2.0\n",
       "Chucho     74     170       NaN\n",
       "Emilio     72     169       NaN\n",
       "Jocelin    73     170       9.0"
      ]
     },
     "execution_count": 29,
     "metadata": {},
     "output_type": "execute_result"
    }
   ],
   "source": [
    "# Mostrar en DataFrame\n",
    "df"
   ]
  },
  {
   "cell_type": "code",
   "execution_count": 30,
   "id": "fffb75a1-d4c9-40ad-bd5c-3f0a14f0ebd0",
   "metadata": {},
   "outputs": [
    {
     "data": {
      "text/plain": [
       "Peso         72.0\n",
       "Altura      169.0\n",
       "Mascotas      NaN\n",
       "Name: Emilio, dtype: float64"
      ]
     },
     "execution_count": 30,
     "metadata": {},
     "output_type": "execute_result"
    }
   ],
   "source": [
    "df.loc[\"Emilio\"]"
   ]
  },
  {
   "cell_type": "code",
   "execution_count": 31,
   "id": "98077cc4-8277-4c95-9835-10c79c63e53b",
   "metadata": {},
   "outputs": [
    {
     "data": {
      "text/html": [
       "<div>\n",
       "<style scoped>\n",
       "    .dataframe tbody tr th:only-of-type {\n",
       "        vertical-align: middle;\n",
       "    }\n",
       "\n",
       "    .dataframe tbody tr th {\n",
       "        vertical-align: top;\n",
       "    }\n",
       "\n",
       "    .dataframe thead th {\n",
       "        text-align: right;\n",
       "    }\n",
       "</style>\n",
       "<table border=\"1\" class=\"dataframe\">\n",
       "  <thead>\n",
       "    <tr style=\"text-align: right;\">\n",
       "      <th></th>\n",
       "      <th>Peso</th>\n",
       "      <th>Altura</th>\n",
       "      <th>Mascotas</th>\n",
       "    </tr>\n",
       "  </thead>\n",
       "  <tbody>\n",
       "    <tr>\n",
       "      <th>Chucho</th>\n",
       "      <td>74</td>\n",
       "      <td>170</td>\n",
       "      <td>NaN</td>\n",
       "    </tr>\n",
       "    <tr>\n",
       "      <th>Emilio</th>\n",
       "      <td>72</td>\n",
       "      <td>169</td>\n",
       "      <td>NaN</td>\n",
       "    </tr>\n",
       "  </tbody>\n",
       "</table>\n",
       "</div>"
      ],
      "text/plain": [
       "        Peso  Altura  Mascotas\n",
       "Chucho    74     170       NaN\n",
       "Emilio    72     169       NaN"
      ]
     },
     "execution_count": 31,
     "metadata": {},
     "output_type": "execute_result"
    }
   ],
   "source": [
    "df.iloc[1:3]"
   ]
  },
  {
   "cell_type": "markdown",
   "id": "4c0ccb0c-ab4f-488b-bfa6-e0d7f2db3310",
   "metadata": {},
   "source": [
    "## Consulta Avanzada de los elementos de un DataFrame"
   ]
  },
  {
   "cell_type": "code",
   "execution_count": 32,
   "id": "87968417-0fcc-4d09-8914-cf999a663095",
   "metadata": {},
   "outputs": [
    {
     "data": {
      "text/html": [
       "<div>\n",
       "<style scoped>\n",
       "    .dataframe tbody tr th:only-of-type {\n",
       "        vertical-align: middle;\n",
       "    }\n",
       "\n",
       "    .dataframe tbody tr th {\n",
       "        vertical-align: top;\n",
       "    }\n",
       "\n",
       "    .dataframe thead th {\n",
       "        text-align: right;\n",
       "    }\n",
       "</style>\n",
       "<table border=\"1\" class=\"dataframe\">\n",
       "  <thead>\n",
       "    <tr style=\"text-align: right;\">\n",
       "      <th></th>\n",
       "      <th>Peso</th>\n",
       "      <th>Altura</th>\n",
       "      <th>Mascotas</th>\n",
       "    </tr>\n",
       "  </thead>\n",
       "  <tbody>\n",
       "    <tr>\n",
       "      <th>Anel</th>\n",
       "      <td>60</td>\n",
       "      <td>145</td>\n",
       "      <td>2.0</td>\n",
       "    </tr>\n",
       "    <tr>\n",
       "      <th>Chucho</th>\n",
       "      <td>74</td>\n",
       "      <td>170</td>\n",
       "      <td>NaN</td>\n",
       "    </tr>\n",
       "    <tr>\n",
       "      <th>Emilio</th>\n",
       "      <td>72</td>\n",
       "      <td>169</td>\n",
       "      <td>NaN</td>\n",
       "    </tr>\n",
       "    <tr>\n",
       "      <th>Jocelin</th>\n",
       "      <td>73</td>\n",
       "      <td>170</td>\n",
       "      <td>9.0</td>\n",
       "    </tr>\n",
       "  </tbody>\n",
       "</table>\n",
       "</div>"
      ],
      "text/plain": [
       "         Peso  Altura  Mascotas\n",
       "Anel       60     145       2.0\n",
       "Chucho     74     170       NaN\n",
       "Emilio     72     169       NaN\n",
       "Jocelin    73     170       9.0"
      ]
     },
     "execution_count": 32,
     "metadata": {},
     "output_type": "execute_result"
    }
   ],
   "source": [
    "# Mostrar el DataFrame\n",
    "df"
   ]
  },
  {
   "cell_type": "code",
   "execution_count": 34,
   "id": "dd65bea7-8cdc-4098-b1fc-a5bdf8d60584",
   "metadata": {},
   "outputs": [
    {
     "data": {
      "text/html": [
       "<div>\n",
       "<style scoped>\n",
       "    .dataframe tbody tr th:only-of-type {\n",
       "        vertical-align: middle;\n",
       "    }\n",
       "\n",
       "    .dataframe tbody tr th {\n",
       "        vertical-align: top;\n",
       "    }\n",
       "\n",
       "    .dataframe thead th {\n",
       "        text-align: right;\n",
       "    }\n",
       "</style>\n",
       "<table border=\"1\" class=\"dataframe\">\n",
       "  <thead>\n",
       "    <tr style=\"text-align: right;\">\n",
       "      <th></th>\n",
       "      <th>Peso</th>\n",
       "      <th>Altura</th>\n",
       "      <th>Mascotas</th>\n",
       "    </tr>\n",
       "  </thead>\n",
       "  <tbody>\n",
       "    <tr>\n",
       "      <th>Chucho</th>\n",
       "      <td>74</td>\n",
       "      <td>170</td>\n",
       "      <td>NaN</td>\n",
       "    </tr>\n",
       "  </tbody>\n",
       "</table>\n",
       "</div>"
      ],
      "text/plain": [
       "        Peso  Altura  Mascotas\n",
       "Chucho    74     170       NaN"
      ]
     },
     "execution_count": 34,
     "metadata": {},
     "output_type": "execute_result"
    }
   ],
   "source": [
    "df.query(\"Altura >=170 and Peso > 73\")"
   ]
  },
  {
   "cell_type": "markdown",
   "id": "57f5015d-bf2b-4efd-8dac-76a41543e8a1",
   "metadata": {},
   "source": [
    "## Copiar un DataFrame "
   ]
  },
  {
   "cell_type": "code",
   "execution_count": 35,
   "id": "3e691564-c9ef-4762-a8b9-677ed853a0c0",
   "metadata": {},
   "outputs": [
    {
     "data": {
      "text/html": [
       "<div>\n",
       "<style scoped>\n",
       "    .dataframe tbody tr th:only-of-type {\n",
       "        vertical-align: middle;\n",
       "    }\n",
       "\n",
       "    .dataframe tbody tr th {\n",
       "        vertical-align: top;\n",
       "    }\n",
       "\n",
       "    .dataframe thead th {\n",
       "        text-align: right;\n",
       "    }\n",
       "</style>\n",
       "<table border=\"1\" class=\"dataframe\">\n",
       "  <thead>\n",
       "    <tr style=\"text-align: right;\">\n",
       "      <th></th>\n",
       "      <th>Peso</th>\n",
       "      <th>Altura</th>\n",
       "      <th>Mascotas</th>\n",
       "    </tr>\n",
       "  </thead>\n",
       "  <tbody>\n",
       "    <tr>\n",
       "      <th>Anel</th>\n",
       "      <td>60</td>\n",
       "      <td>145</td>\n",
       "      <td>2.0</td>\n",
       "    </tr>\n",
       "    <tr>\n",
       "      <th>Chucho</th>\n",
       "      <td>74</td>\n",
       "      <td>170</td>\n",
       "      <td>NaN</td>\n",
       "    </tr>\n",
       "    <tr>\n",
       "      <th>Emilio</th>\n",
       "      <td>72</td>\n",
       "      <td>169</td>\n",
       "      <td>NaN</td>\n",
       "    </tr>\n",
       "    <tr>\n",
       "      <th>Jocelin</th>\n",
       "      <td>73</td>\n",
       "      <td>170</td>\n",
       "      <td>9.0</td>\n",
       "    </tr>\n",
       "  </tbody>\n",
       "</table>\n",
       "</div>"
      ],
      "text/plain": [
       "         Peso  Altura  Mascotas\n",
       "Anel       60     145       2.0\n",
       "Chucho     74     170       NaN\n",
       "Emilio     72     169       NaN\n",
       "Jocelin    73     170       9.0"
      ]
     },
     "execution_count": 35,
     "metadata": {},
     "output_type": "execute_result"
    }
   ],
   "source": [
    "# Crear un DataFrame e inicializarlo con un diccionario de Objetos Series.\n",
    "# Creacion de un DataFrame e inicializarlo con un diccionario de Python\n",
    "Personas = {\n",
    "    \"Peso\": pd.Series([72, 60, 74, 73], [\"Emilio\", \"Anel\", \"Chucho\", \"Jocelin\"]),\n",
    "    \"Altura\": pd.Series({\"Emilio\": 169, \"Anel\":145, \"Chucho\": 170, \"Jocelin\":170}),\n",
    "    \"Mascotas\": pd.Series([2, 9], [\"Anel\", \"Jocelin\"])\n",
    "}\n",
    "\n",
    "df = pd.DataFrame(Personas)\n",
    "df"
   ]
  },
  {
   "cell_type": "code",
   "execution_count": 36,
   "id": "f089cddb-d2cd-4357-9db1-33d784162aa4",
   "metadata": {},
   "outputs": [],
   "source": [
    "# Copia del DataFrame df en df_copy\n",
    "# Nota: Al modificar un elemento del df_copy no se modifica df.\n",
    "df_copy = df.copy()"
   ]
  },
  {
   "cell_type": "markdown",
   "id": "bddcfc92-9317-48ea-b1d9-b3666c113ab2",
   "metadata": {},
   "source": [
    "## Modificacion de un DataFrame "
   ]
  },
  {
   "cell_type": "code",
   "execution_count": 37,
   "id": "1886cd79-b0e2-45a2-80a4-c7f24cef244d",
   "metadata": {},
   "outputs": [
    {
     "data": {
      "text/html": [
       "<div>\n",
       "<style scoped>\n",
       "    .dataframe tbody tr th:only-of-type {\n",
       "        vertical-align: middle;\n",
       "    }\n",
       "\n",
       "    .dataframe tbody tr th {\n",
       "        vertical-align: top;\n",
       "    }\n",
       "\n",
       "    .dataframe thead th {\n",
       "        text-align: right;\n",
       "    }\n",
       "</style>\n",
       "<table border=\"1\" class=\"dataframe\">\n",
       "  <thead>\n",
       "    <tr style=\"text-align: right;\">\n",
       "      <th></th>\n",
       "      <th>Peso</th>\n",
       "      <th>Altura</th>\n",
       "      <th>Mascotas</th>\n",
       "      <th>Anio_Nac</th>\n",
       "    </tr>\n",
       "  </thead>\n",
       "  <tbody>\n",
       "    <tr>\n",
       "      <th>Anel</th>\n",
       "      <td>60</td>\n",
       "      <td>145</td>\n",
       "      <td>2.0</td>\n",
       "      <td>2004</td>\n",
       "    </tr>\n",
       "    <tr>\n",
       "      <th>Chucho</th>\n",
       "      <td>74</td>\n",
       "      <td>170</td>\n",
       "      <td>NaN</td>\n",
       "      <td>2004</td>\n",
       "    </tr>\n",
       "    <tr>\n",
       "      <th>Emilio</th>\n",
       "      <td>72</td>\n",
       "      <td>169</td>\n",
       "      <td>NaN</td>\n",
       "      <td>2004</td>\n",
       "    </tr>\n",
       "    <tr>\n",
       "      <th>Jocelin</th>\n",
       "      <td>73</td>\n",
       "      <td>170</td>\n",
       "      <td>9.0</td>\n",
       "      <td>2004</td>\n",
       "    </tr>\n",
       "  </tbody>\n",
       "</table>\n",
       "</div>"
      ],
      "text/plain": [
       "         Peso  Altura  Mascotas  Anio_Nac\n",
       "Anel       60     145       2.0      2004\n",
       "Chucho     74     170       NaN      2004\n",
       "Emilio     72     169       NaN      2004\n",
       "Jocelin    73     170       9.0      2004"
      ]
     },
     "execution_count": 37,
     "metadata": {},
     "output_type": "execute_result"
    }
   ],
   "source": [
    "# Añadir una nueva columna al DataFrame\n",
    "df[\"Anio_Nac\"] = [2004, 2004, 2004, 2004]\n",
    "df"
   ]
  },
  {
   "cell_type": "code",
   "execution_count": 39,
   "id": "19857ab6-9ee8-47a8-bceb-53d8dd04cd63",
   "metadata": {},
   "outputs": [
    {
     "data": {
      "text/html": [
       "<div>\n",
       "<style scoped>\n",
       "    .dataframe tbody tr th:only-of-type {\n",
       "        vertical-align: middle;\n",
       "    }\n",
       "\n",
       "    .dataframe tbody tr th {\n",
       "        vertical-align: top;\n",
       "    }\n",
       "\n",
       "    .dataframe thead th {\n",
       "        text-align: right;\n",
       "    }\n",
       "</style>\n",
       "<table border=\"1\" class=\"dataframe\">\n",
       "  <thead>\n",
       "    <tr style=\"text-align: right;\">\n",
       "      <th></th>\n",
       "      <th>Peso</th>\n",
       "      <th>Altura</th>\n",
       "      <th>Mascotas</th>\n",
       "      <th>Anio_Nac</th>\n",
       "      <th>Edad</th>\n",
       "    </tr>\n",
       "  </thead>\n",
       "  <tbody>\n",
       "    <tr>\n",
       "      <th>Anel</th>\n",
       "      <td>60</td>\n",
       "      <td>145</td>\n",
       "      <td>2.0</td>\n",
       "      <td>2004</td>\n",
       "      <td>20</td>\n",
       "    </tr>\n",
       "    <tr>\n",
       "      <th>Chucho</th>\n",
       "      <td>74</td>\n",
       "      <td>170</td>\n",
       "      <td>NaN</td>\n",
       "      <td>2004</td>\n",
       "      <td>20</td>\n",
       "    </tr>\n",
       "    <tr>\n",
       "      <th>Emilio</th>\n",
       "      <td>72</td>\n",
       "      <td>169</td>\n",
       "      <td>NaN</td>\n",
       "      <td>2004</td>\n",
       "      <td>20</td>\n",
       "    </tr>\n",
       "    <tr>\n",
       "      <th>Jocelin</th>\n",
       "      <td>73</td>\n",
       "      <td>170</td>\n",
       "      <td>9.0</td>\n",
       "      <td>2004</td>\n",
       "      <td>20</td>\n",
       "    </tr>\n",
       "  </tbody>\n",
       "</table>\n",
       "</div>"
      ],
      "text/plain": [
       "         Peso  Altura  Mascotas  Anio_Nac  Edad\n",
       "Anel       60     145       2.0      2004    20\n",
       "Chucho     74     170       NaN      2004    20\n",
       "Emilio     72     169       NaN      2004    20\n",
       "Jocelin    73     170       9.0      2004    20"
      ]
     },
     "execution_count": 39,
     "metadata": {},
     "output_type": "execute_result"
    }
   ],
   "source": [
    "# Añadir una nueva columna calculada al DataFrame\n",
    "df[\"Edad\"] = 2024-df[\"Anio_Nac\"]\n",
    "df"
   ]
  },
  {
   "cell_type": "code",
   "execution_count": 41,
   "id": "0fa74271-3c23-415e-88ad-f2124051ba5a",
   "metadata": {},
   "outputs": [
    {
     "data": {
      "text/html": [
       "<div>\n",
       "<style scoped>\n",
       "    .dataframe tbody tr th:only-of-type {\n",
       "        vertical-align: middle;\n",
       "    }\n",
       "\n",
       "    .dataframe tbody tr th {\n",
       "        vertical-align: top;\n",
       "    }\n",
       "\n",
       "    .dataframe thead th {\n",
       "        text-align: right;\n",
       "    }\n",
       "</style>\n",
       "<table border=\"1\" class=\"dataframe\">\n",
       "  <thead>\n",
       "    <tr style=\"text-align: right;\">\n",
       "      <th></th>\n",
       "      <th>Peso</th>\n",
       "      <th>Altura</th>\n",
       "      <th>Mascotas</th>\n",
       "      <th>Anio_Nac</th>\n",
       "      <th>Edad</th>\n",
       "      <th>Hijos</th>\n",
       "    </tr>\n",
       "  </thead>\n",
       "  <tbody>\n",
       "    <tr>\n",
       "      <th>Anel</th>\n",
       "      <td>60</td>\n",
       "      <td>145</td>\n",
       "      <td>2.0</td>\n",
       "      <td>2004</td>\n",
       "      <td>20</td>\n",
       "      <td>2</td>\n",
       "    </tr>\n",
       "    <tr>\n",
       "      <th>Chucho</th>\n",
       "      <td>74</td>\n",
       "      <td>170</td>\n",
       "      <td>NaN</td>\n",
       "      <td>2004</td>\n",
       "      <td>20</td>\n",
       "      <td>1</td>\n",
       "    </tr>\n",
       "    <tr>\n",
       "      <th>Emilio</th>\n",
       "      <td>72</td>\n",
       "      <td>169</td>\n",
       "      <td>NaN</td>\n",
       "      <td>2004</td>\n",
       "      <td>20</td>\n",
       "      <td>2</td>\n",
       "    </tr>\n",
       "    <tr>\n",
       "      <th>Jocelin</th>\n",
       "      <td>73</td>\n",
       "      <td>170</td>\n",
       "      <td>9.0</td>\n",
       "      <td>2004</td>\n",
       "      <td>20</td>\n",
       "      <td>1</td>\n",
       "    </tr>\n",
       "  </tbody>\n",
       "</table>\n",
       "</div>"
      ],
      "text/plain": [
       "         Peso  Altura  Mascotas  Anio_Nac  Edad  Hijos\n",
       "Anel       60     145       2.0      2004    20      2\n",
       "Chucho     74     170       NaN      2004    20      1\n",
       "Emilio     72     169       NaN      2004    20      2\n",
       "Jocelin    73     170       9.0      2004    20      1"
      ]
     },
     "execution_count": 41,
     "metadata": {},
     "output_type": "execute_result"
    }
   ],
   "source": [
    "# Añadir una nueva columna creando un DataFrame nuevo.\n",
    "df_mod = df.assign(Hijos = [2, 1, 2, 1])\n",
    "df_mod"
   ]
  },
  {
   "cell_type": "code",
   "execution_count": 42,
   "id": "334945cd-f714-41b2-abdd-9139ef3dc6c1",
   "metadata": {},
   "outputs": [
    {
     "data": {
      "text/html": [
       "<div>\n",
       "<style scoped>\n",
       "    .dataframe tbody tr th:only-of-type {\n",
       "        vertical-align: middle;\n",
       "    }\n",
       "\n",
       "    .dataframe tbody tr th {\n",
       "        vertical-align: top;\n",
       "    }\n",
       "\n",
       "    .dataframe thead th {\n",
       "        text-align: right;\n",
       "    }\n",
       "</style>\n",
       "<table border=\"1\" class=\"dataframe\">\n",
       "  <thead>\n",
       "    <tr style=\"text-align: right;\">\n",
       "      <th></th>\n",
       "      <th>Peso</th>\n",
       "      <th>Altura</th>\n",
       "      <th>Mascotas</th>\n",
       "      <th>Anio_Nac</th>\n",
       "      <th>Edad</th>\n",
       "    </tr>\n",
       "  </thead>\n",
       "  <tbody>\n",
       "    <tr>\n",
       "      <th>Anel</th>\n",
       "      <td>60</td>\n",
       "      <td>145</td>\n",
       "      <td>2.0</td>\n",
       "      <td>2004</td>\n",
       "      <td>20</td>\n",
       "    </tr>\n",
       "    <tr>\n",
       "      <th>Chucho</th>\n",
       "      <td>74</td>\n",
       "      <td>170</td>\n",
       "      <td>NaN</td>\n",
       "      <td>2004</td>\n",
       "      <td>20</td>\n",
       "    </tr>\n",
       "    <tr>\n",
       "      <th>Emilio</th>\n",
       "      <td>72</td>\n",
       "      <td>169</td>\n",
       "      <td>NaN</td>\n",
       "      <td>2004</td>\n",
       "      <td>20</td>\n",
       "    </tr>\n",
       "    <tr>\n",
       "      <th>Jocelin</th>\n",
       "      <td>73</td>\n",
       "      <td>170</td>\n",
       "      <td>9.0</td>\n",
       "      <td>2004</td>\n",
       "      <td>20</td>\n",
       "    </tr>\n",
       "  </tbody>\n",
       "</table>\n",
       "</div>"
      ],
      "text/plain": [
       "         Peso  Altura  Mascotas  Anio_Nac  Edad\n",
       "Anel       60     145       2.0      2004    20\n",
       "Chucho     74     170       NaN      2004    20\n",
       "Emilio     72     169       NaN      2004    20\n",
       "Jocelin    73     170       9.0      2004    20"
      ]
     },
     "execution_count": 42,
     "metadata": {},
     "output_type": "execute_result"
    }
   ],
   "source": [
    "df"
   ]
  },
  {
   "cell_type": "code",
   "execution_count": 43,
   "id": "ca2f7197-b823-4a4b-b44f-1a35353e5f9a",
   "metadata": {},
   "outputs": [],
   "source": [
    "# Eliminar una columna existente del DataFrame\n",
    "del df[\"Peso\"]"
   ]
  },
  {
   "cell_type": "code",
   "execution_count": 44,
   "id": "4a45793f-ea85-4cb2-aff4-1019edc0b2c1",
   "metadata": {},
   "outputs": [
    {
     "data": {
      "text/html": [
       "<div>\n",
       "<style scoped>\n",
       "    .dataframe tbody tr th:only-of-type {\n",
       "        vertical-align: middle;\n",
       "    }\n",
       "\n",
       "    .dataframe tbody tr th {\n",
       "        vertical-align: top;\n",
       "    }\n",
       "\n",
       "    .dataframe thead th {\n",
       "        text-align: right;\n",
       "    }\n",
       "</style>\n",
       "<table border=\"1\" class=\"dataframe\">\n",
       "  <thead>\n",
       "    <tr style=\"text-align: right;\">\n",
       "      <th></th>\n",
       "      <th>Altura</th>\n",
       "      <th>Mascotas</th>\n",
       "      <th>Anio_Nac</th>\n",
       "      <th>Edad</th>\n",
       "    </tr>\n",
       "  </thead>\n",
       "  <tbody>\n",
       "    <tr>\n",
       "      <th>Anel</th>\n",
       "      <td>145</td>\n",
       "      <td>2.0</td>\n",
       "      <td>2004</td>\n",
       "      <td>20</td>\n",
       "    </tr>\n",
       "    <tr>\n",
       "      <th>Chucho</th>\n",
       "      <td>170</td>\n",
       "      <td>NaN</td>\n",
       "      <td>2004</td>\n",
       "      <td>20</td>\n",
       "    </tr>\n",
       "    <tr>\n",
       "      <th>Emilio</th>\n",
       "      <td>169</td>\n",
       "      <td>NaN</td>\n",
       "      <td>2004</td>\n",
       "      <td>20</td>\n",
       "    </tr>\n",
       "    <tr>\n",
       "      <th>Jocelin</th>\n",
       "      <td>170</td>\n",
       "      <td>9.0</td>\n",
       "      <td>2004</td>\n",
       "      <td>20</td>\n",
       "    </tr>\n",
       "  </tbody>\n",
       "</table>\n",
       "</div>"
      ],
      "text/plain": [
       "         Altura  Mascotas  Anio_Nac  Edad\n",
       "Anel        145       2.0      2004    20\n",
       "Chucho      170       NaN      2004    20\n",
       "Emilio      169       NaN      2004    20\n",
       "Jocelin     170       9.0      2004    20"
      ]
     },
     "execution_count": 44,
     "metadata": {},
     "output_type": "execute_result"
    }
   ],
   "source": [
    "df"
   ]
  },
  {
   "cell_type": "code",
   "execution_count": 46,
   "id": "7037f479-8632-429a-a109-093bcc054935",
   "metadata": {},
   "outputs": [
    {
     "data": {
      "text/html": [
       "<div>\n",
       "<style scoped>\n",
       "    .dataframe tbody tr th:only-of-type {\n",
       "        vertical-align: middle;\n",
       "    }\n",
       "\n",
       "    .dataframe tbody tr th {\n",
       "        vertical-align: top;\n",
       "    }\n",
       "\n",
       "    .dataframe thead th {\n",
       "        text-align: right;\n",
       "    }\n",
       "</style>\n",
       "<table border=\"1\" class=\"dataframe\">\n",
       "  <thead>\n",
       "    <tr style=\"text-align: right;\">\n",
       "      <th></th>\n",
       "      <th>Peso</th>\n",
       "      <th>Altura</th>\n",
       "      <th>Mascotas</th>\n",
       "      <th>Anio_Nac</th>\n",
       "      <th>Edad</th>\n",
       "    </tr>\n",
       "  </thead>\n",
       "  <tbody>\n",
       "    <tr>\n",
       "      <th>Anel</th>\n",
       "      <td>60</td>\n",
       "      <td>145</td>\n",
       "      <td>2.0</td>\n",
       "      <td>2004</td>\n",
       "      <td>20</td>\n",
       "    </tr>\n",
       "    <tr>\n",
       "      <th>Chucho</th>\n",
       "      <td>74</td>\n",
       "      <td>170</td>\n",
       "      <td>NaN</td>\n",
       "      <td>2004</td>\n",
       "      <td>20</td>\n",
       "    </tr>\n",
       "    <tr>\n",
       "      <th>Emilio</th>\n",
       "      <td>72</td>\n",
       "      <td>169</td>\n",
       "      <td>NaN</td>\n",
       "      <td>2004</td>\n",
       "      <td>20</td>\n",
       "    </tr>\n",
       "    <tr>\n",
       "      <th>Jocelin</th>\n",
       "      <td>73</td>\n",
       "      <td>170</td>\n",
       "      <td>9.0</td>\n",
       "      <td>2004</td>\n",
       "      <td>20</td>\n",
       "    </tr>\n",
       "  </tbody>\n",
       "</table>\n",
       "</div>"
      ],
      "text/plain": [
       "         Peso  Altura  Mascotas  Anio_Nac  Edad\n",
       "Anel       60     145       2.0      2004    20\n",
       "Chucho     74     170       NaN      2004    20\n",
       "Emilio     72     169       NaN      2004    20\n",
       "Jocelin    73     170       9.0      2004    20"
      ]
     },
     "execution_count": 46,
     "metadata": {},
     "output_type": "execute_result"
    }
   ],
   "source": [
    "# Eliminar una columna existente, devolviendo una copia del DataFrame resultante\n",
    "df_mod = df_mod.drop([\"Hijos\"], axis=1)\n",
    "df_mod"
   ]
  },
  {
   "cell_type": "code",
   "execution_count": 47,
   "id": "8f94f7b9-1eb5-4dc4-b846-083570c83e22",
   "metadata": {},
   "outputs": [
    {
     "data": {
      "text/html": [
       "<div>\n",
       "<style scoped>\n",
       "    .dataframe tbody tr th:only-of-type {\n",
       "        vertical-align: middle;\n",
       "    }\n",
       "\n",
       "    .dataframe tbody tr th {\n",
       "        vertical-align: top;\n",
       "    }\n",
       "\n",
       "    .dataframe thead th {\n",
       "        text-align: right;\n",
       "    }\n",
       "</style>\n",
       "<table border=\"1\" class=\"dataframe\">\n",
       "  <thead>\n",
       "    <tr style=\"text-align: right;\">\n",
       "      <th></th>\n",
       "      <th>Altura</th>\n",
       "      <th>Mascotas</th>\n",
       "      <th>Anio_Nac</th>\n",
       "      <th>Edad</th>\n",
       "    </tr>\n",
       "  </thead>\n",
       "  <tbody>\n",
       "    <tr>\n",
       "      <th>Anel</th>\n",
       "      <td>145</td>\n",
       "      <td>2.0</td>\n",
       "      <td>2004</td>\n",
       "      <td>20</td>\n",
       "    </tr>\n",
       "    <tr>\n",
       "      <th>Chucho</th>\n",
       "      <td>170</td>\n",
       "      <td>NaN</td>\n",
       "      <td>2004</td>\n",
       "      <td>20</td>\n",
       "    </tr>\n",
       "    <tr>\n",
       "      <th>Emilio</th>\n",
       "      <td>169</td>\n",
       "      <td>NaN</td>\n",
       "      <td>2004</td>\n",
       "      <td>20</td>\n",
       "    </tr>\n",
       "    <tr>\n",
       "      <th>Jocelin</th>\n",
       "      <td>170</td>\n",
       "      <td>9.0</td>\n",
       "      <td>2004</td>\n",
       "      <td>20</td>\n",
       "    </tr>\n",
       "  </tbody>\n",
       "</table>\n",
       "</div>"
      ],
      "text/plain": [
       "         Altura  Mascotas  Anio_Nac  Edad\n",
       "Anel        145       2.0      2004    20\n",
       "Chucho      170       NaN      2004    20\n",
       "Emilio      169       NaN      2004    20\n",
       "Jocelin     170       9.0      2004    20"
      ]
     },
     "execution_count": 47,
     "metadata": {},
     "output_type": "execute_result"
    }
   ],
   "source": [
    "df"
   ]
  },
  {
   "cell_type": "markdown",
   "id": "338111e2-a68f-443e-a988-b199b66c18b2",
   "metadata": {},
   "source": [
    "## Evaluacion de expresiones sobre un DataFrame"
   ]
  },
  {
   "cell_type": "code",
   "execution_count": 49,
   "id": "de3d291f-7f7a-4f0f-9802-e105ebdd2282",
   "metadata": {},
   "outputs": [
    {
     "data": {
      "text/html": [
       "<div>\n",
       "<style scoped>\n",
       "    .dataframe tbody tr th:only-of-type {\n",
       "        vertical-align: middle;\n",
       "    }\n",
       "\n",
       "    .dataframe tbody tr th {\n",
       "        vertical-align: top;\n",
       "    }\n",
       "\n",
       "    .dataframe thead th {\n",
       "        text-align: right;\n",
       "    }\n",
       "</style>\n",
       "<table border=\"1\" class=\"dataframe\">\n",
       "  <thead>\n",
       "    <tr style=\"text-align: right;\">\n",
       "      <th></th>\n",
       "      <th>Peso</th>\n",
       "      <th>Altura</th>\n",
       "      <th>Mascotas</th>\n",
       "    </tr>\n",
       "  </thead>\n",
       "  <tbody>\n",
       "    <tr>\n",
       "      <th>Anel</th>\n",
       "      <td>60</td>\n",
       "      <td>145</td>\n",
       "      <td>2.0</td>\n",
       "    </tr>\n",
       "    <tr>\n",
       "      <th>Chucho</th>\n",
       "      <td>74</td>\n",
       "      <td>170</td>\n",
       "      <td>NaN</td>\n",
       "    </tr>\n",
       "    <tr>\n",
       "      <th>Emilio</th>\n",
       "      <td>72</td>\n",
       "      <td>169</td>\n",
       "      <td>NaN</td>\n",
       "    </tr>\n",
       "    <tr>\n",
       "      <th>Jocelin</th>\n",
       "      <td>73</td>\n",
       "      <td>170</td>\n",
       "      <td>9.0</td>\n",
       "    </tr>\n",
       "  </tbody>\n",
       "</table>\n",
       "</div>"
      ],
      "text/plain": [
       "         Peso  Altura  Mascotas\n",
       "Anel       60     145       2.0\n",
       "Chucho     74     170       NaN\n",
       "Emilio     72     169       NaN\n",
       "Jocelin    73     170       9.0"
      ]
     },
     "execution_count": 49,
     "metadata": {},
     "output_type": "execute_result"
    }
   ],
   "source": [
    "# Crear un DataFrame e inicializarlo con un diccionario de Objetos series.\n",
    "Personas = {\n",
    "    \"Peso\": pd.Series([72, 60, 74, 73], [\"Emilio\", \"Anel\", \"Chucho\", \"Jocelin\"]),\n",
    "    \"Altura\": pd.Series({\"Emilio\": 169, \"Anel\":145, \"Chucho\": 170, \"Jocelin\":170}),\n",
    "    \"Mascotas\": pd.Series([2, 9], [\"Anel\", \"Jocelin\"])\n",
    "}\n",
    "\n",
    "df = pd.DataFrame(Personas)\n",
    "df"
   ]
  },
  {
   "cell_type": "code",
   "execution_count": 51,
   "id": "b6834991-8ab3-40f3-a5fa-fe6a492d8381",
   "metadata": {},
   "outputs": [
    {
     "data": {
      "text/plain": [
       "Anel       72.5\n",
       "Chucho     85.0\n",
       "Emilio     84.5\n",
       "Jocelin    85.0\n",
       "Name: Altura, dtype: float64"
      ]
     },
     "execution_count": 51,
     "metadata": {},
     "output_type": "execute_result"
    }
   ],
   "source": [
    "# Elabora una funcion sobre una columna del DataFrame.\n",
    "df.eval(\"Altura/2\")"
   ]
  },
  {
   "cell_type": "code",
   "execution_count": 52,
   "id": "b95c2dca-c3db-467f-864a-60717a868c0f",
   "metadata": {},
   "outputs": [
    {
     "data": {
      "text/plain": [
       "Anel       False\n",
       "Chucho     False\n",
       "Emilio     False\n",
       "Jocelin    False\n",
       "Name: Altura, dtype: bool"
      ]
     },
     "execution_count": 52,
     "metadata": {},
     "output_type": "execute_result"
    }
   ],
   "source": [
    "# Evaluar una funcion utilizando una variable local.\n",
    "max_altura = 170\n",
    "df.eval(\"Altura > @max_altura\")"
   ]
  },
  {
   "cell_type": "code",
   "execution_count": 53,
   "id": "3eb58b28-df9e-4fc8-bb4e-efe21907b4d7",
   "metadata": {},
   "outputs": [
    {
     "data": {
      "text/plain": [
       "Anel       62\n",
       "Chucho     76\n",
       "Emilio     74\n",
       "Jocelin    75\n",
       "Name: Peso, dtype: int64"
      ]
     },
     "execution_count": 53,
     "metadata": {},
     "output_type": "execute_result"
    }
   ],
   "source": [
    "# Aplicar una funcion a una columna del DataFrame.\n",
    "def func(x):\n",
    "    return x + 2\n",
    "\n",
    "df[\"Peso\"].apply(func)"
   ]
  },
  {
   "cell_type": "markdown",
   "id": "9dd51a06-e7b2-4977-839a-a1dd8e71df5a",
   "metadata": {},
   "source": [
    "## Guardar y cargar el DataFrame "
   ]
  },
  {
   "cell_type": "code",
   "execution_count": 54,
   "id": "45c49f3e-4af5-4a37-b31b-18067dedf528",
   "metadata": {},
   "outputs": [
    {
     "data": {
      "text/html": [
       "<div>\n",
       "<style scoped>\n",
       "    .dataframe tbody tr th:only-of-type {\n",
       "        vertical-align: middle;\n",
       "    }\n",
       "\n",
       "    .dataframe tbody tr th {\n",
       "        vertical-align: top;\n",
       "    }\n",
       "\n",
       "    .dataframe thead th {\n",
       "        text-align: right;\n",
       "    }\n",
       "</style>\n",
       "<table border=\"1\" class=\"dataframe\">\n",
       "  <thead>\n",
       "    <tr style=\"text-align: right;\">\n",
       "      <th></th>\n",
       "      <th>Peso</th>\n",
       "      <th>Altura</th>\n",
       "      <th>Mascotas</th>\n",
       "    </tr>\n",
       "  </thead>\n",
       "  <tbody>\n",
       "    <tr>\n",
       "      <th>Anel</th>\n",
       "      <td>60</td>\n",
       "      <td>145</td>\n",
       "      <td>2.0</td>\n",
       "    </tr>\n",
       "    <tr>\n",
       "      <th>Chucho</th>\n",
       "      <td>74</td>\n",
       "      <td>170</td>\n",
       "      <td>NaN</td>\n",
       "    </tr>\n",
       "    <tr>\n",
       "      <th>Emilio</th>\n",
       "      <td>72</td>\n",
       "      <td>169</td>\n",
       "      <td>NaN</td>\n",
       "    </tr>\n",
       "    <tr>\n",
       "      <th>Jocelin</th>\n",
       "      <td>73</td>\n",
       "      <td>170</td>\n",
       "      <td>9.0</td>\n",
       "    </tr>\n",
       "  </tbody>\n",
       "</table>\n",
       "</div>"
      ],
      "text/plain": [
       "         Peso  Altura  Mascotas\n",
       "Anel       60     145       2.0\n",
       "Chucho     74     170       NaN\n",
       "Emilio     72     169       NaN\n",
       "Jocelin    73     170       9.0"
      ]
     },
     "execution_count": 54,
     "metadata": {},
     "output_type": "execute_result"
    }
   ],
   "source": [
    "# Crear un DataFrame e inicializarlo con un diccionario de Objetos series.\n",
    "Personas = {\n",
    "    \"Peso\": pd.Series([72, 60, 74, 73], [\"Emilio\", \"Anel\", \"Chucho\", \"Jocelin\"]),\n",
    "    \"Altura\": pd.Series({\"Emilio\": 169, \"Anel\":145, \"Chucho\": 170, \"Jocelin\":170}),\n",
    "    \"Mascotas\": pd.Series([2, 9], [\"Anel\", \"Jocelin\"])\n",
    "}\n",
    "\n",
    "df = pd.DataFrame(Personas)\n",
    "df"
   ]
  },
  {
   "cell_type": "code",
   "execution_count": 56,
   "id": "dbcdefd6-62b1-459c-8930-f7f9b6f912e5",
   "metadata": {},
   "outputs": [],
   "source": [
    "# Guardar el DataFrame como CSV, HTML y JSON.\n",
    "df.to_csv(\"df_Personas.csv\")\n",
    "df.to_html(\"df_Personas.html\")\n",
    "df.to_json(\"df_Personas.json\")\n"
   ]
  },
  {
   "cell_type": "code",
   "execution_count": 57,
   "id": "d477a5a6-8b53-4056-9995-f930f5c9a9a6",
   "metadata": {},
   "outputs": [],
   "source": [
    "# Cargar el DataFrame en Jupyter.\n",
    "df2 = pd.read_csv(\"df_Personas.csv\")"
   ]
  },
  {
   "cell_type": "code",
   "execution_count": 58,
   "id": "53664f00-19fe-40b7-8ff4-26ddb64ea116",
   "metadata": {},
   "outputs": [
    {
     "data": {
      "text/html": [
       "<div>\n",
       "<style scoped>\n",
       "    .dataframe tbody tr th:only-of-type {\n",
       "        vertical-align: middle;\n",
       "    }\n",
       "\n",
       "    .dataframe tbody tr th {\n",
       "        vertical-align: top;\n",
       "    }\n",
       "\n",
       "    .dataframe thead th {\n",
       "        text-align: right;\n",
       "    }\n",
       "</style>\n",
       "<table border=\"1\" class=\"dataframe\">\n",
       "  <thead>\n",
       "    <tr style=\"text-align: right;\">\n",
       "      <th></th>\n",
       "      <th>Unnamed: 0</th>\n",
       "      <th>Peso</th>\n",
       "      <th>Altura</th>\n",
       "      <th>Mascotas</th>\n",
       "    </tr>\n",
       "  </thead>\n",
       "  <tbody>\n",
       "    <tr>\n",
       "      <th>0</th>\n",
       "      <td>Anel</td>\n",
       "      <td>60</td>\n",
       "      <td>145</td>\n",
       "      <td>2.0</td>\n",
       "    </tr>\n",
       "    <tr>\n",
       "      <th>1</th>\n",
       "      <td>Chucho</td>\n",
       "      <td>74</td>\n",
       "      <td>170</td>\n",
       "      <td>NaN</td>\n",
       "    </tr>\n",
       "    <tr>\n",
       "      <th>2</th>\n",
       "      <td>Emilio</td>\n",
       "      <td>72</td>\n",
       "      <td>169</td>\n",
       "      <td>NaN</td>\n",
       "    </tr>\n",
       "    <tr>\n",
       "      <th>3</th>\n",
       "      <td>Jocelin</td>\n",
       "      <td>73</td>\n",
       "      <td>170</td>\n",
       "      <td>9.0</td>\n",
       "    </tr>\n",
       "  </tbody>\n",
       "</table>\n",
       "</div>"
      ],
      "text/plain": [
       "  Unnamed: 0  Peso  Altura  Mascotas\n",
       "0       Anel    60     145       2.0\n",
       "1     Chucho    74     170       NaN\n",
       "2     Emilio    72     169       NaN\n",
       "3    Jocelin    73     170       9.0"
      ]
     },
     "execution_count": 58,
     "metadata": {},
     "output_type": "execute_result"
    }
   ],
   "source": [
    "df2"
   ]
  },
  {
   "cell_type": "code",
   "execution_count": 59,
   "id": "a8f4e19f-3a15-407e-8a6f-72c6e3cf1f3d",
   "metadata": {},
   "outputs": [
    {
     "data": {
      "text/html": [
       "<div>\n",
       "<style scoped>\n",
       "    .dataframe tbody tr th:only-of-type {\n",
       "        vertical-align: middle;\n",
       "    }\n",
       "\n",
       "    .dataframe tbody tr th {\n",
       "        vertical-align: top;\n",
       "    }\n",
       "\n",
       "    .dataframe thead th {\n",
       "        text-align: right;\n",
       "    }\n",
       "</style>\n",
       "<table border=\"1\" class=\"dataframe\">\n",
       "  <thead>\n",
       "    <tr style=\"text-align: right;\">\n",
       "      <th></th>\n",
       "      <th>Peso</th>\n",
       "      <th>Altura</th>\n",
       "      <th>Mascotas</th>\n",
       "    </tr>\n",
       "  </thead>\n",
       "  <tbody>\n",
       "    <tr>\n",
       "      <th>Anel</th>\n",
       "      <td>60</td>\n",
       "      <td>145</td>\n",
       "      <td>2.0</td>\n",
       "    </tr>\n",
       "    <tr>\n",
       "      <th>Chucho</th>\n",
       "      <td>74</td>\n",
       "      <td>170</td>\n",
       "      <td>NaN</td>\n",
       "    </tr>\n",
       "    <tr>\n",
       "      <th>Emilio</th>\n",
       "      <td>72</td>\n",
       "      <td>169</td>\n",
       "      <td>NaN</td>\n",
       "    </tr>\n",
       "    <tr>\n",
       "      <th>Jocelin</th>\n",
       "      <td>73</td>\n",
       "      <td>170</td>\n",
       "      <td>9.0</td>\n",
       "    </tr>\n",
       "  </tbody>\n",
       "</table>\n",
       "</div>"
      ],
      "text/plain": [
       "         Peso  Altura  Mascotas\n",
       "Anel       60     145       2.0\n",
       "Chucho     74     170       NaN\n",
       "Emilio     72     169       NaN\n",
       "Jocelin    73     170       9.0"
      ]
     },
     "execution_count": 59,
     "metadata": {},
     "output_type": "execute_result"
    }
   ],
   "source": [
    "#  Cargar el DataFrame con la primera columna correctamente asignada.\n",
    "df2 = pd.read_csv(\"df_Personas.csv\", index_col=0)\n",
    "df2"
   ]
  },
  {
   "cell_type": "code",
   "execution_count": null,
   "id": "fb5f327f-8e40-427b-afb2-6627459dc5d2",
   "metadata": {},
   "outputs": [],
   "source": []
  }
 ],
 "metadata": {
  "kernelspec": {
   "display_name": "Python 3 (ipykernel)",
   "language": "python",
   "name": "python3"
  },
  "language_info": {
   "codemirror_mode": {
    "name": "ipython",
    "version": 3
   },
   "file_extension": ".py",
   "mimetype": "text/x-python",
   "name": "python",
   "nbconvert_exporter": "python",
   "pygments_lexer": "ipython3",
   "version": "3.9.19"
  }
 },
 "nbformat": 4,
 "nbformat_minor": 5
}
